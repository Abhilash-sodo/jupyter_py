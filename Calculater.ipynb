{
 "cells": [
  {
   "cell_type": "code",
   "execution_count": 2,
   "id": "54cf2676-4df3-4e78-a76f-9ed6ad4e06c8",
   "metadata": {},
   "outputs": [
    {
     "name": "stdout",
     "output_type": "stream",
     "text": [
      "Select Operation\n",
      "1. Add\n",
      "2. Subtract\n",
      "3. Multiplication\n",
      "4. Divider\n",
      "5. Exit\n"
     ]
    },
    {
     "name": "stdin",
     "output_type": "stream",
     "text": [
      "Enter a choice (1/2/3/4):  1\n",
      "enter a number 22\n",
      "enter a number 22\n"
     ]
    },
    {
     "name": "stdout",
     "output_type": "stream",
     "text": [
      "22.0 + 22.0 == 44.0\n",
      "Select Operation\n",
      "1. Add\n",
      "2. Subtract\n",
      "3. Multiplication\n",
      "4. Divider\n",
      "5. Exit\n"
     ]
    },
    {
     "name": "stdin",
     "output_type": "stream",
     "text": [
      "Enter a choice (1/2/3/4):  5\n"
     ]
    }
   ],
   "source": [
    "def add (x, y):\n",
    "    return x + y\n",
    "\n",
    "def subtract (x, y):\n",
    "    return x-y\n",
    "\n",
    "def multiplication(x, y):\n",
    "    return x*y\n",
    "\n",
    "def divider(x,y):\n",
    "    return(x/y)\n",
    "\n",
    "while True:\n",
    "    print('Select Operation')\n",
    "    print('1. Add')\n",
    "    print('2. Subtract')\n",
    "    print('3. Multiplication')\n",
    "    print('4. Divider')\n",
    "    print('5. Exit')\n",
    "    \n",
    "choose = input(\"Enter a choice (1/2/3/4): \")\n",
    "\n",
    "    if choose in ('1', '2', '3', '3'):\n",
    "        try:\n",
    "            num1 = float(input('enter a number'))\n",
    "            num2 = float(input('enter a number'))\n",
    "        except valueError:\n",
    "            print('invalid input: please enter a number only')\n",
    "            continue\n",
    "        \n",
    "        if choose == '1':\n",
    "            print(num1, '+', num2, '==', add(num1, num2))\n",
    "        elif choose == '2':\n",
    "            print(num1, '-', num2, '==', subtract(num1, num2))\n",
    "        elif choose == '3':\n",
    "            print(num1, '*', num2, '==', multiplication(num1, num2))\n",
    "        elif choose == '4':\n",
    "            print(num1, '/', num2, '==', divider(num1, num2))\n",
    "    elif choose == '5':\n",
    "        break\n",
    "    else:\n",
    "        print(\"Invalid input please enter 1,2,3,4 or 5\")"
   ]
  },
  {
   "cell_type": "code",
   "execution_count": null,
   "id": "62408e85-7d1c-467f-80b5-64c57f2daebc",
   "metadata": {},
   "outputs": [],
   "source": []
  }
 ],
 "metadata": {
  "kernelspec": {
   "display_name": "Python 3 (ipykernel)",
   "language": "python",
   "name": "python3"
  },
  "language_info": {
   "codemirror_mode": {
    "name": "ipython",
    "version": 3
   },
   "file_extension": ".py",
   "mimetype": "text/x-python",
   "name": "python",
   "nbconvert_exporter": "python",
   "pygments_lexer": "ipython3",
   "version": "3.12.4"
  }
 },
 "nbformat": 4,
 "nbformat_minor": 5
}
