{
 "cells": [
  {
   "cell_type": "code",
   "execution_count": 23,
   "id": "2843e329-f551-49be-a632-696c94074431",
   "metadata": {},
   "outputs": [
    {
     "name": "stdout",
     "output_type": "stream",
     "text": [
      "6\n",
      "6\n",
      "33\n",
      "354\n",
      "4545\n"
     ]
    }
   ],
   "source": [
    "l=(1,2,4,4,5,5,5,6,6,7,5,5,5,5,55,5,55,33,335,354,4545,4554544,45454)\n",
    "for x in l:\n",
    "    if x%3==0:\n",
    "        print(x)"
   ]
  },
  {
   "cell_type": "code",
   "execution_count": 57,
   "id": "9889b5d5-4d02-475d-9c76-fce5bafa1948",
   "metadata": {},
   "outputs": [
    {
     "name": "stdout",
     "output_type": "stream",
     "text": [
      "['fizzbuzz', 'fizzbuzz', 'fizzbuzz', 'fizzbuzz', 'fizzbuzz', 'fizzbuzz', 'fizzbuzz']\n",
      "['fizz', 'fizz', 'fizz', 'fizz', 'fizz', 'fizz', 'fizz', 'fizz', 'fizz', 'fizz', 'fizz', 'fizz', 'fizz', 'fizz', 'fizz', 'fizz', 'fizz', 'fizz', 'fizz', 'fizz', 'fizz', 'fizz', 'fizz', 'fizz', 'fizz', 'fizz', 'fizz']\n",
      "['buzz', 'buzz', 'buzz', 'buzz', 'buzz', 'buzz', 'buzz', 'buzz', 'buzz', 'buzz', 'buzz', 'buzz', 'buzz']\n",
      "['hello world!', 'hello world!', 'hello world!', 'hello world!', 'hello world!', 'hello world!', 'hello world!', 'hello world!', 'hello world!', 'hello world!', 'hello world!', 'hello world!', 'hello world!', 'hello world!', 'hello world!', 'hello world!', 'hello world!', 'hello world!', 'hello world!', 'hello world!', 'hello world!', 'hello world!', 'hello world!', 'hello world!', 'hello world!', 'hello world!', 'hello world!', 'hello world!', 'hello world!', 'hello world!', 'hello world!', 'hello world!', 'hello world!', 'hello world!', 'hello world!', 'hello world!', 'hello world!', 'hello world!', 'hello world!', 'hello world!', 'hello world!', 'hello world!', 'hello world!', 'hello world!', 'hello world!', 'hello world!', 'hello world!', 'hello world!', 'hello world!', 'hello world!', 'hello world!', 'hello world!', 'hello world!']\n"
     ]
    }
   ],
   "source": [
    "# 1. FizzBuzz: Write a program that prints numbers from 1 to 100. For multiples of 3, print \"Fizz\" instead of the number; \n",
    "# for multiples of 5, print \"Buzz\"; and for multiples of both, print \"FizzBuzz.\"\n",
    "\n",
    "g=[]\n",
    "h=[]\n",
    "k=[]\n",
    "l=[]\n",
    "for x in range(0,100):\n",
    "    if x%3==0 and x%5==0:\n",
    "        k.append('fizzbuzz')\n",
    "    elif x%3==0:\n",
    "        h.append('fizz')\n",
    "    elif x%5==0:\n",
    "        l.append('buzz')\n",
    "    else:\n",
    "        g.append('hello world!')\n",
    "\n",
    "print(k)\n",
    "print(h)\n",
    "print(l)\n",
    "print(g)"
   ]
  },
  {
   "cell_type": "code",
   "execution_count": 59,
   "id": "ceac69d2-8de0-4cdd-b4f5-0fb00a346714",
   "metadata": {},
   "outputs": [
    {
     "name": "stdout",
     "output_type": "stream",
     "text": [
      "['Civic', 'radar', 'level', 'rotor', 'kayak', 'maDam', 'refer']\n"
     ]
    }
   ],
   "source": [
    "# 2. Palindrome Check: Write a function that checks if a given string \n",
    "# is a palindrome (reads the same forwards and backwards). Ignore spaces, punctuation, and capitalization.\n",
    "\n",
    "pan=['Civic', 'radar', 'level', 'rotor', 'kayak', 'maDam' , 'refer', 'sound', 'letter', 'group', 'sounds', 'Letter', 'that', 'expresses', 'particula', 'meaning']\n",
    "\n",
    "def pa_check(pa):\n",
    "    return pa.lower() == pa.lower()[::-1]\n",
    "\n",
    "pandromic_words = [\n",
    "    \n",
    "    pa for pa in pan if pa_check(pa) \n",
    "]\n",
    "    \n",
    "print(pandromic_words)\n"
   ]
  },
  {
   "cell_type": "code",
   "execution_count": 115,
   "id": "8d654338-c01d-4afe-bef1-41a5d3673db4",
   "metadata": {},
   "outputs": [
    {
     "name": "stdin",
     "output_type": "stream",
     "text": [
      "Enter a number:  10\n"
     ]
    },
    {
     "name": "stdout",
     "output_type": "stream",
     "text": [
      "Prime numbers up to 10 are: [2, 3, 5, 7]\n"
     ]
    }
   ],
   "source": [
    "# 3. Prime Number Finder: Write a function that returns all prime numbers up to a given number n.\n",
    "\n",
    "def find_prime_numbers(n):\n",
    "    primes=[]\n",
    "    for num in range(2, n+1):\n",
    "        is_prime = True\n",
    "        for i in range(2, int(num ** 0.5) + 1):\n",
    "            if num % i == 0:\n",
    "                is_prime = False\n",
    "                break\n",
    "        if is_prime:\n",
    "            primes.append(num)\n",
    "   \n",
    "    return primes\n",
    "\n",
    "n = int(input(\"Enter a number: \"))\n",
    "prime_numbers = find_prime_numbers(n)\n",
    "print(\"Prime numbers up to\", n, \"are:\", prime_numbers)"
   ]
  },
  {
   "cell_type": "code",
   "execution_count": 120,
   "id": "2c214ac4-37ef-4f5e-ab20-ee93bd1c0acf",
   "metadata": {
    "scrolled": true
   },
   "outputs": [
    {
     "name": "stdin",
     "output_type": "stream",
     "text": [
      "Enter text:  hello world\n",
      "Enter shift amount:  1\n"
     ]
    },
    {
     "name": "stdout",
     "output_type": "stream",
     "text": [
      "Encrypted text: ifmmp xpsme\n",
      "Decrypted text: hello world\n"
     ]
    }
   ],
   "source": [
    "# 4. Caesar Cipher: Create a simple Caesar Cipher program that shifts characters in a string by a given number of places in the alphabet. \n",
    "# Implement both encryption and decryption functions.\n",
    "def encrypt(text, shift):\n",
    "    encrypted_text = \"\"\n",
    "    for char in text:\n",
    "        if char.isalpha():\n",
    "            shift_base = ord('A') if char.isupper() else ord('a')\n",
    "            encrypted_text += chr((ord(char) - shift_base + shift) % 26 + shift_base)\n",
    "        else:\n",
    "            encrypted_text += char \n",
    "    return encrypted_text\n",
    "\n",
    "def decrypt(text, shift):\n",
    "    decrypted_text = \"\"\n",
    "    for char in text:\n",
    "        if char.isalpha():\n",
    "            shift_base = ord('A') if char.isupper() else ord('a')\n",
    "            decrypted_text += chr((ord(char) - shift_base - shift) % 26 + shift_base)\n",
    "        else:\n",
    "            decrypted_text += char\n",
    "    return decrypted_text\n",
    "\n",
    "text = input('Enter text: ')\n",
    "shift = int(input('Enter shift amount: '))\n",
    "\n",
    "encrypted = encrypt(text, shift)\n",
    "print(\"Encrypted text:\", encrypted)\n",
    "\n",
    "decrypted = decrypt(encrypted, shift)\n",
    "print(\"Decrypted text:\", decrypted)"
   ]
  },
  {
   "cell_type": "code",
   "execution_count": 155,
   "id": "ba9e6de6-5fd0-439e-a823-18260d942288",
   "metadata": {},
   "outputs": [
    {
     "name": "stdout",
     "output_type": "stream",
     "text": [
      "Balance: $ 50.00\n",
      "Deposited Successfully: $ 100.00\n",
      "Balance: $ 150.00\n",
      "Withdrawl amount: $ 30.00\n",
      "Balance: $ 120.00\n"
     ]
    },
    {
     "data": {
      "text/plain": [
       "120"
      ]
     },
     "execution_count": 155,
     "metadata": {},
     "output_type": "execute_result"
    }
   ],
   "source": [
    "# 5. Bank Account Simulation: Create a simple class to represent a bank account with methods for depositing, withdrawing, and checking the balance. \n",
    "# Make sure to handle cases where a withdrawal is more than the current balance\n",
    "\n",
    "class BankAccount:\n",
    "    def __init__(self, owner, balance=0):\n",
    "        self.owner=owner\n",
    "        self.balance=balance\n",
    "\n",
    "    def deposit(self, amount):\n",
    "        if amount > 0:\n",
    "            self.balance += amount\n",
    "            print(f\"Deposited Successfully: ${amount: .2f}\")\n",
    "        else:\n",
    "            print(f\"Deposit amount must be positive.\")\n",
    "    def withdraw(self, amount):\n",
    "        if amount > self.balance:\n",
    "            print(f\"Insufficient funds.\")\n",
    "        elif amount <= 0:\n",
    "            print(\"withdrawl amount must be postive\")\n",
    "        else:\n",
    "            self.balance -= amount\n",
    "            print(f\"Withdrawl amount: ${amount: .2f}\")\n",
    "    def get_balance(self):\n",
    "        print(f\"Balance: ${self.balance: .2f}\")\n",
    "        return self.balance\n",
    "\n",
    "\n",
    "account = BankAccount(\"abhilash\", 50)\n",
    "account.get_balance()\n",
    "\n",
    "account.deposit(100)\n",
    "account.get_balance()\n",
    "\n",
    "account.withdraw(30)\n",
    "account.get_balance()\n"
   ]
  },
  {
   "cell_type": "code",
   "execution_count": 22,
   "id": "5ce04242-cf8e-4712-a559-9461e4cc386b",
   "metadata": {},
   "outputs": [
    {
     "name": "stdout",
     "output_type": "stream",
     "text": [
      "25\n",
      "-5\n",
      "150\n",
      "0.6666666666666666\n",
      "Error: Division by zero is undefined.\n",
      "Error: Invalid operator please use one of these operator +, -, *, /\n"
     ]
    }
   ],
   "source": [
    "# 6. Basic Calculator: Write a function that takes two numbers and an operator (+, -, *, /) as input and performs the calculation.\n",
    "# Handle edge cases like division by zero.\n",
    "\n",
    "def calculator (num1, num2, operator):\n",
    "    if operator == '+':\n",
    "        return num1 + num2\n",
    "    elif operator == '-':\n",
    "        return num1-num2\n",
    "    elif operator == '*':\n",
    "        return num1*num2\n",
    "    elif operator == '/':\n",
    "        if num2 == 0:\n",
    "            return 'Error: Division by zero is undefined.'\n",
    "        return num1/num2\n",
    "    else:\n",
    "        return \"Error: Invalid operator please use one of these operator +, -, *, /\"\n",
    "\n",
    "print(calculator(10, 15, \"+\"))\n",
    "print(calculator(10, 15, \"-\"))\n",
    "print(calculator(10, 15, \"*\"))\n",
    "print(calculator(10, 15, \"/\"))\n",
    "print(calculator(10, 0, \"/\"))\n",
    "print(calculator(10, 15, \"%\"))\n"
   ]
  },
  {
   "cell_type": "code",
   "execution_count": null,
   "id": "c275f3fc-0fe6-4745-b986-339a10ec47cc",
   "metadata": {},
   "outputs": [],
   "source": [
    "# 7. Guess the Number Game: Write a small game where the computer randomly picks a number between 1 and 100, and the user has to guess it.\n",
    "# The program should give feedback on whether the guess is too high, too low, or correct.\n",
    "import random\n",
    "\n",
    "def guess_the_number():\n",
    "    number_to_guess = random.radint(0, 100)\n",
    "    attempts = 0 \n",
    "\n",
    "print(\"Welcome to guess number game\")\n",
    "print(\"i'm thinking of number between 1 to 100.\")\n",
    "print(\"Try to guess!\")\n",
    "\n",
    "while true:\n",
    "    try:\n",
    "        guess = int(input(\"Enter a your guess: \"))\n",
    "        attempts += 1\n",
    "        if guess < 1 or guess > 100:\n",
    "            print\n"
   ]
  }
 ],
 "metadata": {
  "kernelspec": {
   "display_name": "Python 3 (ipykernel)",
   "language": "python",
   "name": "python3"
  },
  "language_info": {
   "codemirror_mode": {
    "name": "ipython",
    "version": 3
   },
   "file_extension": ".py",
   "mimetype": "text/x-python",
   "name": "python",
   "nbconvert_exporter": "python",
   "pygments_lexer": "ipython3",
   "version": "3.12.4"
  }
 },
 "nbformat": 4,
 "nbformat_minor": 5
}
