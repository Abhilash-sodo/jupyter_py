{
 "cells": [
  {
   "cell_type": "code",
   "execution_count": 6,
   "id": "9d4b1027-6090-473f-a72d-55529ecb8f41",
   "metadata": {},
   "outputs": [
    {
     "name": "stdout",
     "output_type": "stream",
     "text": [
      "150\n",
      "the first three months of the year is:7150\n",
      "any month of 2000 expenses? No\n",
      "after the month of june: [2200, 2350, 2600, 2130, 2190, 1980]\n",
      "after refund the month of april : [2200, 2350, 2600, 1930, 2190, 1980]\n"
     ]
    }
   ],
   "source": [
    "# 1. In Feb, how many dollars you spent extra compare to January?\n",
    "# 2. Find out your total expense in first quarter (first three months) of the year.\n",
    "# 3. Find out if you spent exactly 2000 dollars in any month\n",
    "# 4. June month just finished and your expense is 1980 dollar. Add this item to our monthly expense list\n",
    "# 5. You returned an item that you bought in a month of April and\n",
    "# got a refund of 200$. Make a correction to your monthly expense list\n",
    "# based on this\n",
    "\n",
    "\n",
    "my_list = [2200, 2350, 2600, 2130, 2190]\n",
    "\n",
    "extra_feb = my_list[1]-my_list[0]\n",
    "\n",
    "print(extra_feb)\n",
    "\n",
    "first_three = my_list[0] + my_list[1] + my_list[2]\n",
    "\n",
    "print(f'the first three months of the year is:{first_three}')\n",
    "\n",
    "expenses_2000 = 2000 in my_list\n",
    "print(f\"any month of 2000 expenses? {'Yes' if expenses_2000 else 'No'}\")\n",
    "\n",
    "my_list.append(1980)\n",
    "print(f'after the month of june: {my_list}')\n",
    "\n",
    "my_list[3] -= 200\n",
    "\n",
    "print(f\"after refund the month of april : {my_list}\")"
   ]
  },
  {
   "cell_type": "code",
   "execution_count": 37,
   "id": "2f8f11e0-c233-4826-a477-c56effb5743f",
   "metadata": {},
   "outputs": [
    {
     "name": "stdout",
     "output_type": "stream",
     "text": [
      "5\n",
      "['spider man', 'thor', 'hulk', 'black panther', 'iron man', 'captain america']\n",
      "['spider man', 'doctor s', 'doctor s', 'black panther', 'iron man', 'captain america']\n",
      "['black panther', 'captain america', 'doctor s', 'doctor s', 'iron man', 'spider man']\n"
     ]
    }
   ],
   "source": [
    "# 1. Length of the list\n",
    "# 2. Add 'black panther' at the end of this list\n",
    "# 3. You realize that you need to add 'black panther' after 'hulk',\n",
    "#    so remove it from the list first and then add it after 'hulk'\n",
    "# 4. Now you don't like thor and hulk because they get angry easily :)\n",
    "#    So you want to remove thor and hulk from list and replace them with doctor strange (because he is cool).\n",
    "#    Do that with one line of code.\n",
    "# 5. Sort the heros list in alphabetical order (Hint. Use dir() functions to list down all functions available in list)\n",
    "\n",
    "\n",
    "heros=['spider man','thor','hulk','iron man','captain america']\n",
    "length_of_array = len(heros)\n",
    "\n",
    "print(length_of_array)\n",
    "heros.append('black panther')\n",
    "heros.pop()\n",
    "heros.insert(3, 'black panther')\n",
    "print(heros)\n",
    "\n",
    "heros[1] = 'doctor s';\n",
    "heros[2] = 'doctor s';\n",
    "print(heros)\n",
    "\n",
    "heros.sort()\n",
    "print(heros)"
   ]
  },
  {
   "cell_type": "code",
   "execution_count": 2,
   "id": "8d71cbea-2cac-4955-8b6b-ec332bfdcb79",
   "metadata": {},
   "outputs": [
    {
     "name": "stdin",
     "output_type": "stream",
     "text": [
      "enter a number:  25\n"
     ]
    },
    {
     "name": "stdout",
     "output_type": "stream",
     "text": [
      "1 is odd.\n",
      "3 is odd.\n",
      "5 is odd.\n",
      "7 is odd.\n",
      "9 is odd.\n",
      "11 is odd.\n",
      "13 is odd.\n",
      "15 is odd.\n",
      "17 is odd.\n",
      "19 is odd.\n",
      "21 is odd.\n",
      "23 is odd.\n",
      "25 is odd.\n"
     ]
    }
   ],
   "source": [
    "# 3. Create a list of all odd numbers between 1 and a max number.\n",
    "# Max number is something you need to take from a user using input() function\n",
    "\n",
    "user_input = int(input('enter a number: '))\n",
    "for num in range(1, user_input+1):\n",
    "    if num %2 != 0:\n",
    "        print(f\"{num} is odd.\")\n"
   ]
  },
  {
   "cell_type": "code",
   "execution_count": 46,
   "id": "7b67540b-a13a-4bd8-a396-70a6ca7651b3",
   "metadata": {},
   "outputs": [
    {
     "name": "stdout",
     "output_type": "stream",
     "text": [
      "[0, 1]\n"
     ]
    }
   ],
   "source": [
    "nums = [2,7,11,15]\n",
    "\n",
    "def twoSum(nums, target):\n",
    "    for i in range(len(nums)):\n",
    "        for j in range(i + 1, len(nums)):\n",
    "            if nums[i] + nums[j] == target:\n",
    "                return [i, j]\n",
    "    return None\n",
    "\n",
    " \n",
    "result = twoSum(nums, target)\n",
    "\n",
    "print(result)\n"
   ]
  },
  {
   "cell_type": "code",
   "execution_count": null,
   "id": "9f24cfff-ca0c-442f-9d92-9f5163281d80",
   "metadata": {},
   "outputs": [],
   "source": []
  }
 ],
 "metadata": {
  "kernelspec": {
   "display_name": "Python 3 (ipykernel)",
   "language": "python",
   "name": "python3"
  },
  "language_info": {
   "codemirror_mode": {
    "name": "ipython",
    "version": 3
   },
   "file_extension": ".py",
   "mimetype": "text/x-python",
   "name": "python",
   "nbconvert_exporter": "python",
   "pygments_lexer": "ipython3",
   "version": "3.12.4"
  }
 },
 "nbformat": 4,
 "nbformat_minor": 5
}
